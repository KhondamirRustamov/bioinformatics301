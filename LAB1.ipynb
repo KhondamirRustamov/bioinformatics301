{
  "nbformat": 4,
  "nbformat_minor": 0,
  "metadata": {
    "colab": {
      "provenance": [],
      "authorship_tag": "ABX9TyMPwldMw1qtcfnl6J4yCKa1",
      "include_colab_link": true
    },
    "kernelspec": {
      "name": "python3",
      "display_name": "Python 3"
    },
    "language_info": {
      "name": "python"
    }
  },
  "cells": [
    {
      "cell_type": "markdown",
      "metadata": {
        "id": "view-in-github",
        "colab_type": "text"
      },
      "source": [
        "<a href=\"https://colab.research.google.com/github/KhondamirRustamov/bioinformatics301/blob/main/LAB1.ipynb\" target=\"_parent\"><img src=\"https://colab.research.google.com/assets/colab-badge.svg\" alt=\"Open In Colab\"/></a>"
      ]
    },
    {
      "cell_type": "code",
      "execution_count": null,
      "metadata": {
        "cellView": "form",
        "id": "j2jwtzX38rl6"
      },
      "outputs": [],
      "source": [
        "#@title Загрузка Biopython\n",
        "#@markdown Biopython сторонняя библиотека ее нужно загрузить\n",
        "\n",
        "!pip install Bio"
      ]
    },
    {
      "cell_type": "code",
      "source": [
        "#@title Репликация последовательности Sequence\n",
        "\n",
        "from Bio.Seq import Seq       # импортируем обьект Seq для работы\n",
        "\n",
        "'''\n",
        "Обьект Seq нужен для хранения биоинформатической информации - последовательностей\n",
        "нуклеотидов ДНК (РНК) или аминокислот белка со множеством полезного фукнционала\n",
        "'''\n",
        "\n",
        "# создаем обьект Seq с информацией о последовательности нуклеотидов ДНК\n",
        "sequence = 'ACTT' #@param {type:\"string\"}\n",
        "my_seq = Seq(sequence)\n",
        "print(my_seq.reverse_complement())"
      ],
      "metadata": {
        "colab": {
          "base_uri": "https://localhost:8080/"
        },
        "cellView": "form",
        "id": "uG9gdt798tmY",
        "outputId": "fbd26e05-8fb4-46d6-ec2e-5071da8de523"
      },
      "execution_count": 7,
      "outputs": [
        {
          "output_type": "stream",
          "name": "stdout",
          "text": [
            "AAGT\n"
          ]
        }
      ]
    },
    {
      "cell_type": "code",
      "source": [
        "#@title Транскрипция последовательности Sequence\n",
        "sequence = 'ACTT' #@param {type:\"string\"}\n",
        "my_seq = Seq(sequence)\n",
        "print(my_seq.transcribe())"
      ],
      "metadata": {
        "cellView": "form",
        "id": "Y3dTBrIH9Azt"
      },
      "execution_count": null,
      "outputs": []
    },
    {
      "cell_type": "code",
      "source": [
        "#@title Трансляция последовательности Sequence\n",
        "sequence = 'ACTCGGTAATAU' #@param {type:\"string\"}\n",
        "my_seq = Seq(sequence)\n",
        "print(my_seq.translate(to_stop=True))"
      ],
      "metadata": {
        "cellView": "form",
        "id": "awpPqkgG9Jh3"
      },
      "execution_count": null,
      "outputs": []
    },
    {
      "cell_type": "code",
      "source": [
        "#@title Подсчет нуклеотидов последовательности Sequence\n",
        "sequence = 'ACTCGGTAATAU' #@param {type:\"string\"}\n",
        "my_seq = Seq(sequence)\n",
        "nucleotide_to_count = 'A' #@param {type:\"string\"}\n",
        "print(my_seq.count(nucleotide_to_count))"
      ],
      "metadata": {
        "cellView": "form",
        "id": "0buueYBO9gbt"
      },
      "execution_count": null,
      "outputs": []
    }
  ]
}