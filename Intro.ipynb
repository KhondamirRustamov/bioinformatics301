{
  "nbformat": 4,
  "nbformat_minor": 0,
  "metadata": {
    "colab": {
      "provenance": [],
      "authorship_tag": "ABX9TyPlcg35OjYswakAyIAHI47O",
      "include_colab_link": true
    },
    "kernelspec": {
      "name": "python3",
      "display_name": "Python 3"
    },
    "language_info": {
      "name": "python"
    }
  },
  "cells": [
    {
      "cell_type": "markdown",
      "metadata": {
        "id": "view-in-github",
        "colab_type": "text"
      },
      "source": [
        "<a href=\"https://colab.research.google.com/github/KhondamirRustamov/bioinformatics301/blob/main/Intro.ipynb\" target=\"_parent\"><img src=\"https://colab.research.google.com/assets/colab-badge.svg\" alt=\"Open In Colab\"/></a>"
      ]
    },
    {
      "cell_type": "code",
      "execution_count": null,
      "metadata": {
        "id": "NtEA7HFnKedI"
      },
      "outputs": [],
      "source": [
        "'GTTGTCATTCTTATGAAAAACA'"
      ]
    },
    {
      "cell_type": "code",
      "source": [
        "#функции\n",
        "'GTTGTCATTCTTATGAAAAACA'.count('A')"
      ],
      "metadata": {
        "id": "Vz4zECbjKwgU"
      },
      "execution_count": null,
      "outputs": []
    },
    {
      "cell_type": "code",
      "source": [
        "#переменные\n",
        "my_sequence = 'GTTGTCATTCTTATGAAAAACA'\n",
        "my_sequence.count('A')\n"
      ],
      "metadata": {
        "id": "QYJbOeMJKy-B"
      },
      "execution_count": null,
      "outputs": []
    },
    {
      "cell_type": "code",
      "source": [
        "my_sequence.count('A'), my_sequence.count('')"
      ],
      "metadata": {
        "id": "Qk9uDuSXLAbR"
      },
      "execution_count": null,
      "outputs": []
    }
  ]
}