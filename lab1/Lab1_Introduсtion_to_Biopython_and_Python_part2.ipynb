{
  "nbformat": 4,
  "nbformat_minor": 0,
  "metadata": {
    "colab": {
      "provenance": [],
      "authorship_tag": "ABX9TyNPP3yfMHqAGu7wj7+USdDM",
      "include_colab_link": true
    },
    "kernelspec": {
      "name": "python3",
      "display_name": "Python 3"
    },
    "language_info": {
      "name": "python"
    }
  },
  "cells": [
    {
      "cell_type": "markdown",
      "metadata": {
        "id": "view-in-github",
        "colab_type": "text"
      },
      "source": [
        "<a href=\"https://colab.research.google.com/github/KhondamirRustamov/bioinformatics301/blob/main/lab1/Lab1_Introdu%D1%81tion_to_Biopython_and_Python_part2.ipynb\" target=\"_parent\"><img src=\"https://colab.research.google.com/assets/colab-badge.svg\" alt=\"Open In Colab\"/></a>"
      ]
    },
    {
      "cell_type": "markdown",
      "source": [
        "# Знакомство с Python 2"
      ],
      "metadata": {
        "id": "7qa2KXanY6-y"
      }
    },
    {
      "cell_type": "code",
      "source": [
        "#@title download packages\n",
        "!pip install Bio"
      ],
      "metadata": {
        "colab": {
          "base_uri": "https://localhost:8080/"
        },
        "cellView": "form",
        "id": "uzNzqdVRICmx",
        "outputId": "b2cb2fc8-9650-46aa-83fb-a26aed34e044"
      },
      "execution_count": 4,
      "outputs": [
        {
          "output_type": "stream",
          "name": "stdout",
          "text": [
            "Looking in indexes: https://pypi.org/simple, https://us-python.pkg.dev/colab-wheels/public/simple/\n",
            "Collecting Bio\n",
            "  Downloading bio-1.5.3-py3-none-any.whl (272 kB)\n",
            "\u001b[?25l     \u001b[90m━━━━━━━━━━━━━━━━━━━━━━━━━━━━━━━━━━━━━━━━\u001b[0m \u001b[32m0.0/272.6 KB\u001b[0m \u001b[31m?\u001b[0m eta \u001b[36m-:--:--\u001b[0m\r\u001b[2K     \u001b[91m━━━━━━━━━━━━━━━━━━━━━━━━━━━━━━━━━━━━━━\u001b[0m\u001b[90m╺\u001b[0m \u001b[32m266.2/272.6 KB\u001b[0m \u001b[31m8.9 MB/s\u001b[0m eta \u001b[36m0:00:01\u001b[0m\r\u001b[2K     \u001b[90m━━━━━━━━━━━━━━━━━━━━━━━━━━━━━━━━━━━━━━━\u001b[0m \u001b[32m272.6/272.6 KB\u001b[0m \u001b[31m6.9 MB/s\u001b[0m eta \u001b[36m0:00:00\u001b[0m\n",
            "\u001b[?25hCollecting mygene\n",
            "  Downloading mygene-3.2.2-py2.py3-none-any.whl (5.4 kB)\n",
            "Requirement already satisfied: tqdm in /usr/local/lib/python3.8/dist-packages (from Bio) (4.64.1)\n",
            "Collecting biopython>=1.80\n",
            "  Downloading biopython-1.80-cp38-cp38-manylinux_2_17_x86_64.manylinux2014_x86_64.whl (3.1 MB)\n",
            "\u001b[2K     \u001b[90m━━━━━━━━━━━━━━━━━━━━━━━━━━━━━━━━━━━━━━━━\u001b[0m \u001b[32m3.1/3.1 MB\u001b[0m \u001b[31m42.7 MB/s\u001b[0m eta \u001b[36m0:00:00\u001b[0m\n",
            "\u001b[?25hRequirement already satisfied: requests in /usr/local/lib/python3.8/dist-packages (from Bio) (2.25.1)\n",
            "Requirement already satisfied: numpy in /usr/local/lib/python3.8/dist-packages (from biopython>=1.80->Bio) (1.21.6)\n",
            "Collecting biothings-client>=0.2.6\n",
            "  Downloading biothings_client-0.2.6-py2.py3-none-any.whl (37 kB)\n",
            "Requirement already satisfied: idna<3,>=2.5 in /usr/local/lib/python3.8/dist-packages (from requests->Bio) (2.10)\n",
            "Requirement already satisfied: certifi>=2017.4.17 in /usr/local/lib/python3.8/dist-packages (from requests->Bio) (2022.12.7)\n",
            "Requirement already satisfied: chardet<5,>=3.0.2 in /usr/local/lib/python3.8/dist-packages (from requests->Bio) (4.0.0)\n",
            "Requirement already satisfied: urllib3<1.27,>=1.21.1 in /usr/local/lib/python3.8/dist-packages (from requests->Bio) (1.24.3)\n",
            "Installing collected packages: biopython, biothings-client, mygene, Bio\n",
            "Successfully installed Bio-1.5.3 biopython-1.80 biothings-client-0.2.6 mygene-3.2.2\n"
          ]
        }
      ]
    },
    {
      "cell_type": "code",
      "execution_count": 1,
      "metadata": {
        "colab": {
          "base_uri": "https://localhost:8080/"
        },
        "id": "QcJbw857Y3oE",
        "outputId": "acb9b9b5-355d-48e6-b5f1-4ac3cc72d70b"
      },
      "outputs": [
        {
          "output_type": "stream",
          "name": "stdout",
          "text": [
            "A\n",
            "C\n",
            "G\n",
            "T\n"
          ]
        }
      ],
      "source": [
        "#@title Loops\n",
        "\n",
        "a = 'ACGT'\n",
        "for i in a:\n",
        "  print(i)"
      ]
    },
    {
      "cell_type": "code",
      "source": [
        "a = 'AACCGGTT'\n",
        "print(len(a))\n",
        "for i in range(len(a)):\n",
        "  print(a[i], i)"
      ],
      "metadata": {
        "colab": {
          "base_uri": "https://localhost:8080/"
        },
        "id": "JRAjmDtcZQqm",
        "outputId": "938c1cd6-32bf-42a5-e904-af66b46a7cbe"
      },
      "execution_count": 3,
      "outputs": [
        {
          "output_type": "stream",
          "name": "stdout",
          "text": [
            "8\n",
            "A 1\n",
            "A 2\n",
            "C 3\n",
            "C 4\n",
            "G 5\n",
            "G 6\n",
            "T 7\n",
            "T 8\n"
          ]
        }
      ]
    },
    {
      "cell_type": "code",
      "source": [
        "a = 'AACCGGTT'\n",
        "for i in range(len(a)):\n",
        "  print(a[i], i+1)"
      ],
      "metadata": {
        "colab": {
          "base_uri": "https://localhost:8080/"
        },
        "id": "co9No2NBZce7",
        "outputId": "5db736a9-b754-4bd2-ae0a-b3081236df1e"
      },
      "execution_count": 4,
      "outputs": [
        {
          "output_type": "stream",
          "name": "stdout",
          "text": [
            "A 1\n",
            "A 2\n",
            "C 3\n",
            "C 4\n",
            "G 5\n",
            "G 6\n",
            "T 7\n",
            "T 8\n"
          ]
        }
      ]
    },
    {
      "cell_type": "code",
      "source": [
        "#@title IF-ELIF-ELSE\n",
        "\n",
        "a = 'ACGTACGT'\n",
        "C_count = 0\n",
        "\n",
        "for i in a:\n",
        "  if i=='C':\n",
        "    C_count+=1\n",
        "\n",
        "print(C_count)"
      ],
      "metadata": {
        "colab": {
          "base_uri": "https://localhost:8080/"
        },
        "id": "-NpGFHYZZekI",
        "outputId": "a9e86c8c-c55c-4a65-8369-92c7a76ef4bc"
      },
      "execution_count": 5,
      "outputs": [
        {
          "output_type": "stream",
          "name": "stdout",
          "text": [
            "2\n"
          ]
        }
      ]
    },
    {
      "cell_type": "code",
      "source": [
        "a = 'ACGTACGT'\n",
        "CG_count = 0\n",
        "\n",
        "for i in a:\n",
        "  if i=='C':\n",
        "    CG_count+=1\n",
        "  elif i=='G':\n",
        "    CG_count+=1\n",
        "\n",
        "print(CG_count)"
      ],
      "metadata": {
        "colab": {
          "base_uri": "https://localhost:8080/"
        },
        "id": "dq1SAsnsZze-",
        "outputId": "f0d8d90b-a62c-4c9e-a0a3-583389c8cdaf"
      },
      "execution_count": 6,
      "outputs": [
        {
          "output_type": "stream",
          "name": "stdout",
          "text": [
            "4\n"
          ]
        }
      ]
    },
    {
      "cell_type": "code",
      "source": [
        "a = 'ACGAACGCTACCGTACGT'\n",
        "CG_count = 0\n",
        "AT_count = 0\n",
        "\n",
        "for i in a:\n",
        "  if i=='C':\n",
        "    CG_count+=1\n",
        "  elif i=='G':\n",
        "    CG_count+=1\n",
        "  else:\n",
        "    AT_count+=1\n",
        "\n",
        "print(CG_count)\n",
        "print(AT_count)"
      ],
      "metadata": {
        "colab": {
          "base_uri": "https://localhost:8080/"
        },
        "id": "EQU6jdVUZ-fT",
        "outputId": "138fa257-d171-4028-fb4f-76e723ce9a14"
      },
      "execution_count": 7,
      "outputs": [
        {
          "output_type": "stream",
          "name": "stdout",
          "text": [
            "10\n",
            "8\n"
          ]
        }
      ]
    },
    {
      "cell_type": "code",
      "source": [
        "a = 'ACGAACGCTACCGTACGT'\n",
        "CG_count = 0\n",
        "AT_count = 0\n",
        "\n",
        "for i in a:\n",
        "  if i=='C' or i=='G':\n",
        "    CG_count+=1\n",
        "  else:\n",
        "    AT_count+=1\n",
        "\n",
        "print(CG_count)\n",
        "print(AT_count)"
      ],
      "metadata": {
        "colab": {
          "base_uri": "https://localhost:8080/"
        },
        "id": "Fe5gbimCaHYY",
        "outputId": "84683b56-0a27-44d9-9a6e-5c2492495220"
      },
      "execution_count": 9,
      "outputs": [
        {
          "output_type": "stream",
          "name": "stdout",
          "text": [
            "10\n",
            "8\n"
          ]
        }
      ]
    },
    {
      "cell_type": "code",
      "source": [
        "#Count AT fragments\n",
        "\n",
        "a = 'ACGATAACGCTACCGATTACGTAT'\n",
        "AT_fragment = 0\n",
        "\n",
        "for i in range(len(a)):\n",
        "  print(a[i:i+2])\n",
        "  if a[i:i+2] == 'AT':\n",
        "    AT_fragment+=1\n",
        "\n",
        "print(AT_fragment)"
      ],
      "metadata": {
        "id": "aoZ5QQlvaQIX"
      },
      "execution_count": null,
      "outputs": []
    },
    {
      "cell_type": "code",
      "source": [
        "#Count AT fragments\n",
        "\n",
        "a = 'ACGATAACGCTACCGATTACGTAT'\n",
        "AT_fragment = 0\n",
        "\n",
        "for i in range(len(a)):\n",
        "  if len(a[i:i+2])==2:\n",
        "    print(a[i:i+2])\n",
        "    if a[i:i+2] == 'AT':\n",
        "      AT_fragment+=1\n",
        "\n",
        "print(AT_fragment)"
      ],
      "metadata": {
        "id": "S6I7OIlgaxcK"
      },
      "execution_count": null,
      "outputs": []
    },
    {
      "cell_type": "code",
      "source": [
        "#@title LISTS\n",
        "\n",
        "a='ACG'\n",
        "my_list = [1, 2, 3, 'C', 'G', 'A', a]\n",
        "print(my_list)"
      ],
      "metadata": {
        "colab": {
          "base_uri": "https://localhost:8080/"
        },
        "id": "AbY9dTiibHZu",
        "outputId": "88d61bfd-9c67-430f-9e07-d22447784eb2"
      },
      "execution_count": 14,
      "outputs": [
        {
          "output_type": "stream",
          "name": "stdout",
          "text": [
            "[1, 2, 3, 'C', 'G', 'A', 'ACG']\n"
          ]
        }
      ]
    },
    {
      "cell_type": "code",
      "source": [
        "#add object to list\n",
        "\n",
        "my_list.append('T')\n",
        "print(my_list)"
      ],
      "metadata": {
        "colab": {
          "base_uri": "https://localhost:8080/"
        },
        "id": "QQbqshF6bRZi",
        "outputId": "df04443b-5bf3-437d-88f1-a0cc23ddcf7f"
      },
      "execution_count": 15,
      "outputs": [
        {
          "output_type": "stream",
          "name": "stdout",
          "text": [
            "[1, 2, 3, 'C', 'G', 'A', 'ACG', 'T']\n"
          ]
        }
      ]
    },
    {
      "cell_type": "code",
      "source": [
        "#remove object from list\n",
        "\n",
        "my_list.remove('T')\n",
        "print(my_list)"
      ],
      "metadata": {
        "colab": {
          "base_uri": "https://localhost:8080/"
        },
        "id": "mIGB_NiDbWjn",
        "outputId": "1c54f510-4585-4edf-a4a1-d83e6cb55a59"
      },
      "execution_count": 16,
      "outputs": [
        {
          "output_type": "stream",
          "name": "stdout",
          "text": [
            "[1, 2, 3, 'C', 'G', 'A', 'ACG']\n"
          ]
        }
      ]
    },
    {
      "cell_type": "code",
      "source": [
        "for i in my_list:\n",
        "  print(i)"
      ],
      "metadata": {
        "colab": {
          "base_uri": "https://localhost:8080/"
        },
        "id": "jcd3E9ZibfEe",
        "outputId": "c7ae9035-f9bd-4dd9-a3eb-b3b75be409c2"
      },
      "execution_count": 17,
      "outputs": [
        {
          "output_type": "stream",
          "name": "stdout",
          "text": [
            "1\n",
            "2\n",
            "3\n",
            "C\n",
            "G\n",
            "A\n",
            "ACG\n"
          ]
        }
      ]
    },
    {
      "cell_type": "code",
      "source": [
        "#@title Add positions from seq to list - find position of A\n",
        "\n",
        "seq = 'ACCTGCGATGCTAGCT'\n",
        "\n",
        "my_list_of_a = []\n",
        "for i in range(len(seq)):\n",
        "  if seq[i]=='A':\n",
        "    my_list_of_a.append(i+1) #to start it from 1 not 0\n",
        "\n",
        "print(my_list_of_a)"
      ],
      "metadata": {
        "colab": {
          "base_uri": "https://localhost:8080/"
        },
        "id": "HY0mF1GBHU1b",
        "outputId": "46af7ab8-c2e3-42b6-bd3c-fe412200bcaf"
      },
      "execution_count": 3,
      "outputs": [
        {
          "output_type": "stream",
          "name": "stdout",
          "text": [
            "[1, 8, 13]\n"
          ]
        }
      ]
    },
    {
      "cell_type": "code",
      "source": [
        "#@title Problem1: find the positions of start codon\n",
        "from Bio.Seq import Seq\n",
        "\n",
        "gene_rna = Seq('CGGCATGCGTTG').reverse_complement().transcribe()\n",
        "print(gene_rna)\n",
        "\n",
        "list_of_start_codons = []\n",
        "\n",
        "for i in range(len(gene_rna)):\n",
        "  if gene_rna[i:i+3] == '': # change ''\n",
        "    # delete 'pass' and\n",
        "    # copy your code here\n",
        "    pass\n",
        "\n",
        "print(list_of_start_codons)"
      ],
      "metadata": {
        "colab": {
          "base_uri": "https://localhost:8080/"
        },
        "id": "heBj05vSF2mD",
        "outputId": "6e703f02-886c-4142-b3eb-829999a57547"
      },
      "execution_count": 10,
      "outputs": [
        {
          "output_type": "stream",
          "name": "stdout",
          "text": [
            "CAACGCAUGCCG\n",
            "[]\n"
          ]
        }
      ]
    },
    {
      "cell_type": "code",
      "source": [
        "#@title Problem2: find positions of stop codons (all possible)\n",
        "\n",
        "gene_dna = Seq('CGCGCTAGCTGATCGATGCTAGCTCGCGTCGATGCA')\n",
        "# add your solution here"
      ],
      "metadata": {
        "id": "4a_XnGp1HvlZ"
      },
      "execution_count": null,
      "outputs": []
    }
  ]
}