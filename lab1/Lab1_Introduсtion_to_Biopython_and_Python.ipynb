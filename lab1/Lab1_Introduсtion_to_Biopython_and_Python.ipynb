{
  "nbformat": 4,
  "nbformat_minor": 0,
  "metadata": {
    "colab": {
      "provenance": [],
      "collapsed_sections": [
        "3vvB4YB0rCDX"
      ],
      "authorship_tag": "ABX9TyMg9QldeGyXvRxvhi+FqMej",
      "include_colab_link": true
    },
    "kernelspec": {
      "name": "python3",
      "display_name": "Python 3"
    },
    "language_info": {
      "name": "python"
    }
  },
  "cells": [
    {
      "cell_type": "markdown",
      "metadata": {
        "id": "view-in-github",
        "colab_type": "text"
      },
      "source": [
        "<a href=\"https://colab.research.google.com/github/KhondamirRustamov/bioinformatics301/blob/main/lab1/Lab1_Introdu%D1%81tion_to_Biopython_and_Python.ipynb\" target=\"_parent\"><img src=\"https://colab.research.google.com/assets/colab-badge.svg\" alt=\"Open In Colab\"/></a>"
      ]
    },
    {
      "cell_type": "markdown",
      "source": [
        "# Знакомство с Python\n"
      ],
      "metadata": {
        "id": "3vvB4YB0rCDX"
      }
    },
    {
      "cell_type": "code",
      "execution_count": 1,
      "metadata": {
        "colab": {
          "base_uri": "https://localhost:8080/"
        },
        "id": "_saRXO8TqxYT",
        "outputId": "c91fdebc-1f2a-4dd3-a42d-1a05f02374c8"
      },
      "outputs": [
        {
          "output_type": "stream",
          "name": "stdout",
          "text": [
            "4\n",
            "4\n"
          ]
        }
      ],
      "source": [
        "#@title Переменные и функция print()\n",
        "\n",
        "\"\"\"\n",
        "В языке программирования Python переменные значения могут храниться в любых \n",
        "буквах латинкского алфавита, словах, словах с цифрами разделенными нижними \n",
        "подчеркиваниями (_) \n",
        "\"\"\"\n",
        "\n",
        "a = 4\n",
        "first_number = 4\n",
        "Khondamir_number = 4\n",
        "\n",
        "# При этом переменная (А) не равна переменной (а), регистр букв имеет значении\n",
        "\n",
        "\"\"\"\n",
        "Переменные дальше можно использовать для вычислений. Для вывода информации в \n",
        "терминале в язке программирования Python используется функция print()\n",
        "\"\"\"\n",
        "\n",
        "print(4) # мы можем выводить сами значения в функции\n",
        "print(Khondamir_number) # а также значения, сохраненные в переменных"
      ]
    },
    {
      "cell_type": "code",
      "source": [
        "#@title Цифры и строки\n",
        "\n",
        "'''\n",
        "Вы уже познакомились с тем, как сохранять цифры в переменнях в языке \n",
        "программирования Python. В дальнейшем нам нужен будет и второй вид переменных\n",
        "в Python - строки (на английском: string)\n",
        "'''\n",
        "\n",
        "my_string = 'I love Bioinformatics'\n",
        "my_string2 = \"I love Bioinformatics\"\n",
        "my_string_3 = '''I love Bioinformatics'''\n",
        "my_big_string = \"\"\"This string is so big, \n",
        "that's why \n",
        "it is so big\n",
        "\"\"\"\n",
        " \n",
        "# В языке Python существует три вида обозначения строк:\n",
        "# одинарные кавычки ('), двойные кавычки (\"), тройные кавычки (''' или \"\"\")\n",
        "# тройные кавычки моэно использовать для хранения строк с переносами (ENTER)\n",
        "# Все виды кавычек должны начинать и заканчивать строку\n",
        "\n",
        "print(my_string)"
      ],
      "metadata": {
        "colab": {
          "base_uri": "https://localhost:8080/"
        },
        "id": "NdLMQrLwsr6_",
        "outputId": "c5ee5382-be81-4dff-a093-916236ea6068"
      },
      "execution_count": 2,
      "outputs": [
        {
          "output_type": "stream",
          "name": "stdout",
          "text": [
            "I love Bioinformatics\n"
          ]
        }
      ]
    },
    {
      "cell_type": "code",
      "source": [
        "#@title Операции с цифрами\n",
        "\n",
        "'''\n",
        "Десятичные доли чисел записываются через точку(.)\n",
        "'''\n",
        "\n",
        "my_int = 4      # Целое число (на англ.: integer)\n",
        "my_float = 4.5  # Число с плавающей запятой (float)\n",
        "\n",
        "\"\"\"\n",
        "Числа в Python можно прибавлять друг к другу, отнимать, умножать, делить, \n",
        "возводить в степень, делить без остатка, определять остаток\n",
        "\"\"\"\n",
        "\n",
        "print(my_int+4)         # Сумма чисел\n",
        "print(my_int-2)         # Разность\n",
        "print(my_float*2)       # Умножение\n",
        "print(my_float/1.5)     # Деление\n",
        "print(my_float**my_int) # Возведение в степень\n",
        "print(my_int//3)        # Деление без остатка\n",
        "print(my_int%3)         # Определение остатка при делении на число"
      ],
      "metadata": {
        "colab": {
          "base_uri": "https://localhost:8080/"
        },
        "id": "OTIdIaLHtraf",
        "outputId": "1c7fa1d1-b43e-4207-9708-ee9f4c34a36e"
      },
      "execution_count": 3,
      "outputs": [
        {
          "output_type": "stream",
          "name": "stdout",
          "text": [
            "8\n",
            "2\n",
            "9.0\n",
            "3.0\n",
            "410.0625\n",
            "1\n",
            "1\n"
          ]
        }
      ]
    },
    {
      "cell_type": "code",
      "source": [
        "#@title Операции со строками\n",
        "\n",
        "\"\"\"\n",
        "Строки можно прибавлять друг к другу, а также умножать, нельзя делить строки\n",
        "или прибавлять к ним числа\n",
        "\"\"\"\n",
        "\n",
        "my_string1 = 'I'\n",
        "my_string2 = ' love'\n",
        "my_string3 = ' Bioinformatics'\n",
        "\n",
        "print(my_string1+my_string2+my_string3) # Добавление строк\n",
        "print(my_string3*3)                     # Умножение строк, дает данную строку три раза\n",
        "\n",
        "'''\n",
        "Для определения длины строки очень легко использовать функцию len()\n",
        "Данная функция вернет целое число (которое можно сохранить в переменной или сразу вывести)\n",
        "'''\n",
        "\n",
        "length_of_string = len(my_string3)\n",
        "\n",
        "print(length_of_string)\n",
        "print(len(my_string3))"
      ],
      "metadata": {
        "colab": {
          "base_uri": "https://localhost:8080/"
        },
        "id": "NT1eKJK9u9xl",
        "outputId": "5d8b07a8-b9be-49a9-c740-6f4381d07555"
      },
      "execution_count": 6,
      "outputs": [
        {
          "output_type": "stream",
          "name": "stdout",
          "text": [
            "I love Bioinformatics\n",
            " Bioinformatics Bioinformatics Bioinformatics\n",
            "15\n",
            "15\n"
          ]
        }
      ]
    },
    {
      "cell_type": "code",
      "source": [
        "#@title SLICING\n",
        "\n",
        "'''\n",
        "Операция слайсинга со строками, позволяет нам достать вырезанную часть строки\n",
        "Например:\n",
        "'''\n",
        "\n",
        "my_string = 'BIOINFORMATICS'\n",
        "\n",
        "'''\n",
        "BIOINFORMATICS\n",
        "01234567891111\n",
        "          1234\n",
        "Чтобы вырезать кусочек строки нам нужно знать индекс букв в строке, обратите \n",
        "внимание индексация в Python начинается с 0 - первая буква\n",
        "\n",
        "Чтобы вырезать подстроку BIO из строки BIOINFORMATICS: мы должны определить \n",
        "начальный и конечный индекс данной подстроки\n",
        "\n",
        "===\n",
        "BIOINFORMATICS\n",
        "01234567891111\n",
        "          1234\n",
        "\n",
        "Нам нужно начать с 0 индекса и взять также 2 индекс, при этом мы остановимся\n",
        "на 3 индексе, не взяв его -> получается границы нашей обрезки [0:3] -> начинаем\n",
        "с 0 (берем его) и заканчиваем в 3 (но не берем его)\n",
        "'''\n",
        "\n",
        "print(my_string[0:3])\n"
      ],
      "metadata": {
        "colab": {
          "base_uri": "https://localhost:8080/"
        },
        "id": "rwO7PmsavkvZ",
        "outputId": "4afcc866-595e-46a1-d55b-fd6c3fa979d3"
      },
      "execution_count": 5,
      "outputs": [
        {
          "output_type": "stream",
          "name": "stdout",
          "text": [
            "BIO\n"
          ]
        }
      ]
    },
    {
      "cell_type": "code",
      "source": [
        "#@title Задание 1\n",
        "\n",
        "'''\n",
        "Создайте переменную test_float, равную 250.9, выведите:\n",
        "1) сумму данного числа с числом 150.8\n",
        "2) результат разности с числом 40.678\n",
        "3) результат умножения на число 23\n",
        "4) результат деления на число 80\n",
        "5) возведение в степень 40\n",
        "6) деление без остатка на число 131.1\n",
        "7) остаток от деления на число 90\n",
        "'''"
      ],
      "metadata": {
        "id": "gzbkhPHSxD_R"
      },
      "execution_count": null,
      "outputs": []
    },
    {
      "cell_type": "code",
      "source": [
        "#@title Задание 2\n",
        "\n",
        "'''\n",
        "Создайте строку test_string и присвойте ей значение:\n",
        "\n",
        "ATTTAATCGCGCTGATCGTAGCTGACTGGAGGATGGCGATGCTAGCTAGCTAGCTAGATTGCGTTAGCTTAGGCTGCAT\n",
        "-+++++++++++++++++-------------------------------------------------------------\n",
        "\n",
        "1) Определите длину данной строки\n",
        "2) Выведите разрез [10:44]\n",
        "3) Выведите разрез указанного + фрагмента\n",
        "'''"
      ],
      "metadata": {
        "id": "c7mcVri8ya6P"
      },
      "execution_count": null,
      "outputs": []
    },
    {
      "cell_type": "markdown",
      "source": [
        "# Знакомство с BioPython\n",
        "Biopython - специальная библиотека Python для работы с Биологической информацией"
      ],
      "metadata": {
        "id": "IpUwU-CHzjyv"
      }
    },
    {
      "cell_type": "code",
      "source": [
        "#@title Загрузка Biopython\n",
        "#@markdown Biopython сторонняя библиотека ее нужно загрузить\n",
        "\n",
        "!pip install Bio"
      ],
      "metadata": {
        "id": "M_3WK-2YzxWK"
      },
      "execution_count": null,
      "outputs": []
    },
    {
      "cell_type": "code",
      "source": [
        "#@title Обьект Seq\n",
        "\n",
        "from Bio.Seq import Seq       # импортируем обьект Seq для работы\n",
        "\n",
        "'''\n",
        "Обьект Seq нужен для хранения биоинформатической информации - последовательностей \n",
        "нуклеотидов ДНК (РНК) или аминокислот белка со множеством полезного фукнционала\n",
        "'''\n",
        "\n",
        "# создаем обьект Seq с информацией о последовательности нуклеотидов ДНК\n",
        "\n",
        "my_seq = Seq('ATTATTACGCATGGG') \n",
        "print(my_seq)"
      ],
      "metadata": {
        "colab": {
          "base_uri": "https://localhost:8080/"
        },
        "id": "jLAhILfpz_SP",
        "outputId": "3d3e2d08-03db-42c8-91cd-df19f1673cf6"
      },
      "execution_count": 19,
      "outputs": [
        {
          "output_type": "stream",
          "name": "stdout",
          "text": [
            "ATTATTACGCATGGG\n"
          ]
        }
      ]
    },
    {
      "cell_type": "code",
      "source": [
        "#@title Комплементарная последовательность обьекта Seq\n",
        "\n",
        "\"\"\"\n",
        "У обьекта Seq есть функция определния компелементарной последовательности:\n",
        ".complement()\n",
        "\"\"\"\n",
        "\n",
        "print('My complement')\n",
        "print(my_seq.complement())\n",
        "print(Seq('ACGT').complement())\n",
        "\n",
        "\"\"\"\n",
        "Для определения обратно компелементарной последовательности используем функцию:\n",
        ".reverse_complement()\n",
        "\"\"\"\n",
        "\n",
        "print('My reverse complement')\n",
        "print(my_seq.reverse_complement())\n",
        "print(Seq('ACGT').reverse_complement())"
      ],
      "metadata": {
        "colab": {
          "base_uri": "https://localhost:8080/"
        },
        "id": "NwvgwEQ30zZF",
        "outputId": "44c5ddec-6d49-4910-b2db-29da36580f10"
      },
      "execution_count": 9,
      "outputs": [
        {
          "output_type": "stream",
          "name": "stdout",
          "text": [
            "My complement\n",
            "TAATAATGCGTAC\n",
            "TGCA\n",
            "My reverse complement\n",
            "CATGCGTAATAAT\n",
            "ACGT\n"
          ]
        }
      ]
    },
    {
      "cell_type": "code",
      "source": [
        "#@title Транскрипция обьекта Seq\n",
        "\n",
        "\"\"\"\n",
        "Для транскрибирования обьекта Seq :\n",
        ".transcribe()\n",
        "\"\"\"\n",
        "\n",
        "print('My transcribe')\n",
        "print(my_seq.transcribe())\n",
        "print(Seq('ACGT').transcribe())\n"
      ],
      "metadata": {
        "colab": {
          "base_uri": "https://localhost:8080/"
        },
        "id": "ySETgrq21ddL",
        "outputId": "b20f3c56-243a-4adc-ce6a-9263adfd0f35"
      },
      "execution_count": 16,
      "outputs": [
        {
          "output_type": "stream",
          "name": "stdout",
          "text": [
            "My transcribe\n",
            "AUUAUUACGCAUG\n",
            "ACGU\n"
          ]
        }
      ]
    },
    {
      "cell_type": "code",
      "source": [
        "#@title Трансляция обьекта Seq\n",
        "\n",
        "\"\"\"\n",
        "Для транслирования обьекта Seq :\n",
        ".translate()\n",
        "\"\"\"\n",
        "\n",
        "print('My protein')\n",
        "print(my_seq.translate())\n",
        "print(Seq('ACGTCC').translate())\n",
        "\n",
        "\"\"\"\n",
        "Здесь есть пара нюансов, если вы хотите остановить трансляцию при встрече \n",
        "стоп-кодона: впишите внутрь скобок .translate(to_stop=True)\n",
        "\"\"\"\n",
        "\n",
        "print(Seq('AUGGGGUGAUUUCGCGCC').translate())\n",
        "print(Seq('AUGGGGUGAUUUCGCGCC').translate(to_stop=True))"
      ],
      "metadata": {
        "colab": {
          "base_uri": "https://localhost:8080/"
        },
        "id": "iwAPHklZ2CB8",
        "outputId": "d1b181ae-d1a2-4153-e67f-e4d1c10f5160"
      },
      "execution_count": 25,
      "outputs": [
        {
          "output_type": "stream",
          "name": "stdout",
          "text": [
            "My protein\n",
            "IITHG\n",
            "TS\n",
            "MG*FRA\n",
            "MG\n"
          ]
        }
      ]
    },
    {
      "cell_type": "code",
      "source": [
        "#@title Подсчет разных нуклеотидов\n",
        "\n",
        "'''\n",
        "Для подсчета нуклеотидов разных видов обьект Seq имеет фукнцию:\n",
        ".count()\n",
        "'''\n",
        "\n",
        "A_nucl = my_seq.count('A')\n",
        "\n",
        "print(A_nucl)\n",
        "print(my_seq.count('C'))\n",
        "print(Seq('AUUUAUAUCUCGCGAGCGCGAUCUCA').count('U'))"
      ],
      "metadata": {
        "colab": {
          "base_uri": "https://localhost:8080/"
        },
        "id": "dBzDMRnJ6UN1",
        "outputId": "781f6bdd-382a-4e9c-c160-dadd45c06b06"
      },
      "execution_count": 27,
      "outputs": [
        {
          "output_type": "stream",
          "name": "stdout",
          "text": [
            "4\n",
            "2\n",
            "8\n"
          ]
        }
      ]
    },
    {
      "cell_type": "code",
      "source": [
        "#@title Задание 1\n",
        "\n",
        "'''\n",
        "Создайте обьект Seq и внесите в него значение:\n",
        "\n",
        "TGCATAAATTTGTCACAGATGCAGAACCTGTTGAAATGACCAGTTATATGGATGGGCGGAAATATATCGA\n",
        "TCAAAATAATTACCCTGACCGTGTTCGTATTGGGGCAGGCAGGCAATATTGGCGATCTGATGAAGATGAG\n",
        "CCCAATAACCGCGAAAGTTCATATCATATTGCAAGTGCGTATTCTTGGCTCGTTGGTGGCAATACCTTTG\n",
        "CACAAAATGGATCAGGTGGTGGCACAGTCAACTTAGGTAGTGAAAAAATTAAACATAGCCCATATGGTTT\n",
        "TTTACCAACAGGAGGCTCATTTGGCGACAGTGGCTCACCAATGTTTATCTATGATGCCCAAAAGCAAAAG\n",
        "\n",
        "(обратите внимание, что это одна последовательность, а не пять, она просто\n",
        "разделена энтерами).\n",
        "\n",
        "1) Определите длину данной последовательности\n",
        "2) Определите количество нуклеотидов A в ней\n",
        "3) Определите общее количество Ц+Г нуклеотидов вкомплементарной ей \n",
        "последовательности\n",
        "4) Определите сколько Урацилов встречается в РНК, синтезированной с нее \n",
        "5) Определите сколько стоп-кодонов встречается при трансляции данного участка\n",
        "гена. \n",
        "'''"
      ],
      "metadata": {
        "id": "bGk9ez5G3VBh"
      },
      "execution_count": null,
      "outputs": []
    },
    {
      "cell_type": "code",
      "source": [
        "#@title Задание 2\n",
        "\n",
        "'''\n",
        "Выполните домашнее задание в папке LAB1_HW\n",
        "У каждого свое уникальное задание, выбирать по номеру в журнале, ну или что там\n",
        "у вас\n",
        "'''"
      ],
      "metadata": {
        "id": "EoE3NUdL7-QW"
      },
      "execution_count": null,
      "outputs": []
    },
    {
      "cell_type": "code",
      "source": [
        "#@title Задание 3 (опционально)\n",
        "\n",
        "'''\n",
        "Скачайте приложение SoloLearn (или используйте его веб-версию) и начните изучать\n",
        "курс Python в нем. На русском или на английском (Python for beginners). Это \n",
        "сильно облегчит ваше понимание данного курса.\n",
        "'''"
      ],
      "metadata": {
        "id": "ehTXSkEf84SW"
      },
      "execution_count": null,
      "outputs": []
    }
  ]
}