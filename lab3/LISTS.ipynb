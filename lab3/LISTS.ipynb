{
  "nbformat": 4,
  "nbformat_minor": 0,
  "metadata": {
    "colab": {
      "provenance": [],
      "authorship_tag": "ABX9TyNasDaa2YZwydFT3+BR8IlF",
      "include_colab_link": true
    },
    "kernelspec": {
      "name": "python3",
      "display_name": "Python 3"
    },
    "language_info": {
      "name": "python"
    }
  },
  "cells": [
    {
      "cell_type": "markdown",
      "metadata": {
        "id": "view-in-github",
        "colab_type": "text"
      },
      "source": [
        "<a href=\"https://colab.research.google.com/github/KhondamirRustamov/bioinformatics301/blob/main/lab3/LISTS.ipynb\" target=\"_parent\"><img src=\"https://colab.research.google.com/assets/colab-badge.svg\" alt=\"Open In Colab\"/></a>"
      ]
    },
    {
      "cell_type": "code",
      "execution_count": null,
      "metadata": {
        "id": "6ynFWslhydqu"
      },
      "outputs": [],
      "source": [
        "\n",
        "!pip install Bio"
      ]
    },
    {
      "cell_type": "code",
      "source": [
        "#Lists\n",
        "\n",
        "my_list = ['Bioinformatics', 1, 3.14, 'ACG']\n",
        "\n",
        "print(my_list)"
      ],
      "metadata": {
        "id": "LoQGeasuyfEU"
      },
      "execution_count": null,
      "outputs": []
    },
    {
      "cell_type": "code",
      "source": [
        "my_new_list = [1, 2]\n",
        "my_new_list.append(3)\n",
        "print(my_new_list)"
      ],
      "metadata": {
        "id": "LCFqAp0xy1od"
      },
      "execution_count": null,
      "outputs": []
    },
    {
      "cell_type": "code",
      "source": [
        "from Bio.Seq import Seq\n",
        "my_seq = Seq('ACCGTGCGTAGCTATGGTCGATGCTGCTGATGCTGATGGGCTAGCTAGGCTAGTC')\n",
        "A_list = []\n",
        "\n",
        "for i, nucleotide in enumerate(my_seq):\n",
        "  if nucleotide == 'A':\n",
        "    A_list.append(i)\n",
        "\n",
        "print(A_list)"
      ],
      "metadata": {
        "id": "2PpcsEsqypCT"
      },
      "execution_count": null,
      "outputs": []
    },
    {
      "cell_type": "code",
      "source": [
        "print(' '.join([str(x) for x in A_list]))"
      ],
      "metadata": {
        "id": "jhB_3pvTzA_v"
      },
      "execution_count": null,
      "outputs": []
    },
    {
      "cell_type": "code",
      "source": [
        "from Bio.Seq import Seq\n",
        "my_seq = Seq('ACCGTGCGTAGCTATGGTCGATGCTGCTGATGCTGATGGGCTAGCTAGGCTAGTC')\n",
        "AA_list = []\n",
        "\n",
        "for i, nucleotide in enumerate(my_seq):\n",
        "  if nucleotide[i:i+2] == 'AA':\n",
        "    AA_list.append(i)\n",
        "\n",
        "print(A_list)"
      ],
      "metadata": {
        "id": "_3Ki2jkbzRsV"
      },
      "execution_count": null,
      "outputs": []
    },
    {
      "cell_type": "code",
      "source": [
        "new_generated_list = [x for x in range(10)]\n",
        "\n",
        "print(new_generated_list)"
      ],
      "metadata": {
        "id": "9QEN7-QizKer"
      },
      "execution_count": null,
      "outputs": []
    }
  ]
}