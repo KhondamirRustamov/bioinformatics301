{
  "nbformat": 4,
  "nbformat_minor": 0,
  "metadata": {
    "colab": {
      "provenance": [],
      "authorship_tag": "ABX9TyNDWvgED3VOXCpJj1/DYTFF",
      "include_colab_link": true
    },
    "kernelspec": {
      "name": "python3",
      "display_name": "Python 3"
    },
    "language_info": {
      "name": "python"
    }
  },
  "cells": [
    {
      "cell_type": "markdown",
      "metadata": {
        "id": "view-in-github",
        "colab_type": "text"
      },
      "source": [
        "<a href=\"https://colab.research.google.com/github/KhondamirRustamov/bioinformatics301/blob/main/lab3/Lab3_Finding_ORF_part1.ipynb\" target=\"_parent\"><img src=\"https://colab.research.google.com/assets/colab-badge.svg\" alt=\"Open In Colab\"/></a>"
      ]
    },
    {
      "cell_type": "code",
      "execution_count": null,
      "metadata": {
        "id": "-MIq4Tr4vUu1"
      },
      "outputs": [],
      "source": [
        "!pip install Bio"
      ]
    },
    {
      "cell_type": "code",
      "source": [
        "from Bio.Seq import Seq\n",
        "my_seq = Seq('ACCGTGCGTAGCTATGGTCGATGCTGCTGATGCTGATGGGCTAGCTAGGCTAGTC')"
      ],
      "metadata": {
        "id": "cnYNh-ZHvmXC"
      },
      "execution_count": null,
      "outputs": []
    },
    {
      "cell_type": "code",
      "source": [
        "print(len(my_seq))"
      ],
      "metadata": {
        "colab": {
          "base_uri": "https://localhost:8080/"
        },
        "id": "U1aU3-MQwZXF",
        "outputId": "baa158b1-2942-4c3e-f833-2f7c906da4a3"
      },
      "execution_count": null,
      "outputs": [
        {
          "output_type": "stream",
          "name": "stdout",
          "text": [
            "8\n"
          ]
        }
      ]
    },
    {
      "cell_type": "code",
      "source": [
        "print(my_seq[0:3])"
      ],
      "metadata": {
        "colab": {
          "base_uri": "https://localhost:8080/"
        },
        "id": "La5t0Cejv8pb",
        "outputId": "71de811d-97b8-4e63-b83c-fd9cbe13ea14"
      },
      "execution_count": null,
      "outputs": [
        {
          "output_type": "stream",
          "name": "stdout",
          "text": [
            "AAC\n"
          ]
        }
      ]
    },
    {
      "cell_type": "code",
      "source": [
        "for i in range(len(my_seq)-2):\n",
        "  print(my_seq[i:i+3])"
      ],
      "metadata": {
        "colab": {
          "base_uri": "https://localhost:8080/"
        },
        "id": "Mg2BdILTwUqS",
        "outputId": "28c94514-bad8-42ea-a7b2-d6b7035ec5fb"
      },
      "execution_count": null,
      "outputs": [
        {
          "output_type": "stream",
          "name": "stdout",
          "text": [
            "AAC\n",
            "ACC\n",
            "CCT\n",
            "CTT\n",
            "TTG\n",
            "TGG\n"
          ]
        }
      ]
    },
    {
      "cell_type": "code",
      "source": [
        "if my_seq[0:3] == 'AAC':\n",
        "  print('AAC')\n",
        "else:\n",
        "  pass #break"
      ],
      "metadata": {
        "colab": {
          "base_uri": "https://localhost:8080/"
        },
        "id": "lvytovHNwiO5",
        "outputId": "4ccc7502-de5f-4ef3-d32c-a938feb83228"
      },
      "execution_count": null,
      "outputs": [
        {
          "output_type": "stream",
          "name": "stdout",
          "text": [
            "AAC\n"
          ]
        }
      ]
    },
    {
      "cell_type": "code",
      "source": [
        "for i in range(len(my_seq)-2):\n",
        "  if my_seq[i:i+3] == 'ATG':\n",
        "    print(i)\n",
        "  else:\n",
        "    continue"
      ],
      "metadata": {
        "colab": {
          "base_uri": "https://localhost:8080/"
        },
        "id": "T30QrlUfwtEK",
        "outputId": "5d93a677-303a-4aee-d6cc-2f04e5dd71cc"
      },
      "execution_count": null,
      "outputs": [
        {
          "output_type": "stream",
          "name": "stdout",
          "text": [
            "13\n",
            "20\n",
            "29\n",
            "35\n"
          ]
        }
      ]
    }
  ]
}